{
 "cells": [
  {
   "cell_type": "code",
   "execution_count": 1,
   "id": "507de20f-999d-4531-ac02-f54e1cf5dfff",
   "metadata": {},
   "outputs": [
    {
     "ename": "ModuleNotFoundError",
     "evalue": "No module named 'tensorflow'",
     "output_type": "error",
     "traceback": [
      "\u001b[0;31m---------------------------------------------------------------------------\u001b[0m",
      "\u001b[0;31mModuleNotFoundError\u001b[0m                       Traceback (most recent call last)",
      "Cell \u001b[0;32mIn[1], line 1\u001b[0m\n\u001b[0;32m----> 1\u001b[0m \u001b[38;5;28;01mimport\u001b[39;00m \u001b[38;5;21;01mtensorflow\u001b[39;00m \u001b[38;5;28;01mas\u001b[39;00m \u001b[38;5;21;01mtf\u001b[39;00m\n\u001b[1;32m      2\u001b[0m \u001b[38;5;28;01mimport\u001b[39;00m \u001b[38;5;21;01mpydot\u001b[39;00m\n\u001b[1;32m      3\u001b[0m \u001b[38;5;28;01mfrom\u001b[39;00m \u001b[38;5;21;01mpathlib\u001b[39;00m \u001b[38;5;28;01mimport\u001b[39;00m Path\n",
      "\u001b[0;31mModuleNotFoundError\u001b[0m: No module named 'tensorflow'"
     ]
    }
   ],
   "source": [
    "import tensorflow as tf\n",
    "import pydot\n",
    "from pathlib import Path\n",
    "import os\n",
    "import json\n",
    "import requests\n",
    "import numpy as np"
   ]
  },
  {
   "cell_type": "markdown",
   "id": "fd4a337f-2af1-4a0c-8972-c06758be180b",
   "metadata": {},
   "source": [
    "# Using Keras to load the dataset"
   ]
  },
  {
   "cell_type": "code",
   "execution_count": null,
   "id": "92aa25a8-b1e8-456d-a138-35e1cf85618b",
   "metadata": {},
   "outputs": [],
   "source": [
    "fashion_mnist = tf.keras.datasets.fashion_mnist.load_data()"
   ]
  },
  {
   "cell_type": "code",
   "execution_count": null,
   "id": "b0dead23-0ea8-4d6e-9bfd-210f9d6ed29e",
   "metadata": {},
   "outputs": [],
   "source": [
    "fashion_mnist"
   ]
  },
  {
   "cell_type": "code",
   "execution_count": null,
   "id": "7a4b5df2-5347-4fc4-bc9e-b0022c149cdd",
   "metadata": {},
   "outputs": [],
   "source": [
    "(X_train_full, y_train_full), (X_test, y_test) = fashion_mnist"
   ]
  },
  {
   "cell_type": "code",
   "execution_count": null,
   "id": "b150c793-5b22-4fa8-aaf8-88465c7a0463",
   "metadata": {},
   "outputs": [],
   "source": [
    "X_train, y_train =  X_train_full[:-5000], y_train_full[:-5000]\n",
    "X_valid, y_valid =  X_train_full[-5000:], y_train_full[-5000:]"
   ]
  },
  {
   "cell_type": "code",
   "execution_count": null,
   "id": "113593eb-4eb3-462c-b3f4-8759c4203b57",
   "metadata": {},
   "outputs": [],
   "source": [
    "X_train.shape"
   ]
  },
  {
   "cell_type": "code",
   "execution_count": null,
   "id": "efb690bd-28ab-4b03-98cd-af1914f28790",
   "metadata": {},
   "outputs": [],
   "source": [
    "X_train.dtype"
   ]
  },
  {
   "cell_type": "code",
   "execution_count": null,
   "id": "39663d22-7d58-4ed1-8e13-670bced6f85c",
   "metadata": {},
   "outputs": [],
   "source": [
    "# we'll scale the pixel intensities down to the 0-1 range\n",
    "X_train, X_valid, X_test = X_train / 225., X_valid / 225., X_test / 225."
   ]
  },
  {
   "cell_type": "code",
   "execution_count": null,
   "id": "a041e395-fba2-4e66-acce-629d2b3fa6c0",
   "metadata": {},
   "outputs": [],
   "source": [
    "class_names = [\"T-shirt/top\", \"Trouser\", \"Pullover\", \"Dress\", \"Coat\", \"Sandal\", \"Shirt\", \"Sneaker\", \"Bag\", \"Ankle boot\"]"
   ]
  },
  {
   "cell_type": "code",
   "execution_count": null,
   "id": "5e194a18-b5f5-47ef-bec1-e08725f87413",
   "metadata": {},
   "outputs": [],
   "source": [
    "class_names[y_train[0]]"
   ]
  },
  {
   "cell_type": "markdown",
   "id": "5333668f-70cb-4acc-861d-2d4f352c2e15",
   "metadata": {},
   "source": [
    "# Creating the model using the sequential API"
   ]
  },
  {
   "cell_type": "code",
   "execution_count": null,
   "id": "e66a10cb-80d8-4a25-9d23-c0c0fe64473d",
   "metadata": {},
   "outputs": [],
   "source": [
    "tf.random.set_seed(73) # tf.keras.utils.set_random_seed() sets the random seeds TensorFlow, Python and Numpy\n",
    "\n",
    "# model = tf.keras.Sequential()\n",
    "# model.add(tf.keras.layers.Input(shape=[28, 28]))\n",
    "# model.add(tf.keras.layers.Flatten())\n",
    "# model.add(tf.keras.layers.Dense(300, activation=\"relu\"))\n",
    "# model.add(tf.keras.layers.Dense(100, activation=\"relu\"))\n",
    "# model.add(tf.keras.layers.Dense(10, activation=\"softmax\"))\n",
    "\n",
    "model = tf.keras.Sequential([\n",
    "    tf.keras.layers.Flatten(input_shape=[28, 28]),\n",
    "    tf.keras.layers.Dense(300, activation=\"relu\"),\n",
    "    tf.keras.layers.Dense(100, activation=\"relu\"),\n",
    "    tf.keras.layers.Dense(10, activation=\"softmax\")\n",
    "])"
   ]
  },
  {
   "cell_type": "code",
   "execution_count": null,
   "id": "a53beaec-a4c2-439f-95c2-410d4df970a1",
   "metadata": {},
   "outputs": [],
   "source": [
    "model.summary()"
   ]
  },
  {
   "cell_type": "code",
   "execution_count": null,
   "id": "3a0d14db-7164-4245-a935-bed1e589f943",
   "metadata": {},
   "outputs": [],
   "source": [
    "# tf.keras.utils.plot_model(model)"
   ]
  },
  {
   "cell_type": "markdown",
   "id": "eb927386-4691-4d7a-876d-d0dc2df22bce",
   "metadata": {},
   "source": [
    "Keras ensures the name a layers is globally unique, even across models. This makes it possible to merge models easily without getting name conflicts."
   ]
  },
  {
   "cell_type": "code",
   "execution_count": null,
   "id": "6d7c2382-8c9b-4a54-b0c0-5c8bc3b9bd59",
   "metadata": {},
   "outputs": [],
   "source": [
    "model.layers"
   ]
  },
  {
   "cell_type": "code",
   "execution_count": null,
   "id": "705fb4d6-a604-4c77-aa56-de2672ee182d",
   "metadata": {},
   "outputs": [],
   "source": [
    "hidden1 = model.layers[1]\n",
    "hidden1.name"
   ]
  },
  {
   "cell_type": "code",
   "execution_count": null,
   "id": "ebe6320b-4af0-4912-98d4-7c94b6be6b96",
   "metadata": {},
   "outputs": [],
   "source": [
    "model.get_layer('dense') is hidden1"
   ]
  },
  {
   "cell_type": "code",
   "execution_count": null,
   "id": "f435b04b-5e38-4c2c-9b7a-e2aef54d9bab",
   "metadata": {},
   "outputs": [],
   "source": [
    "weights, biases = hidden1.get_weights()\n",
    "weights"
   ]
  },
  {
   "cell_type": "code",
   "execution_count": null,
   "id": "d5600a39-98bc-4ae8-a681-a1a4a672b5e5",
   "metadata": {},
   "outputs": [],
   "source": [
    "weights.shape"
   ]
  },
  {
   "cell_type": "code",
   "execution_count": null,
   "id": "a78bb362-6edc-4083-b0c1-943a5e1fcc25",
   "metadata": {},
   "outputs": [],
   "source": [
    "biases"
   ]
  },
  {
   "cell_type": "code",
   "execution_count": null,
   "id": "a29f83ae-2b46-4227-9fb0-69b6e2bfee8c",
   "metadata": {},
   "outputs": [],
   "source": [
    "biases.shape"
   ]
  },
  {
   "cell_type": "code",
   "execution_count": null,
   "id": "58c708e8-f9e5-4eca-ae64-b51a624aacef",
   "metadata": {},
   "outputs": [],
   "source": [
    "model.compile(loss=\"sparse_categorical_crossentropy\",\n",
    "              optimizer=\"sgd\",\n",
    "              metrics=[\"accuracy\"])"
   ]
  },
  {
   "cell_type": "markdown",
   "id": "fa2c197f",
   "metadata": {},
   "source": [
    "## Model Checkpoint"
   ]
  },
  {
   "cell_type": "code",
   "execution_count": null,
   "id": "038ee54a",
   "metadata": {},
   "outputs": [],
   "source": [
    "checkpoint_cb = tf.keras.callbacks.ModelCheckpoint(\"my_checkpoints\", save_weights_only=True, save_best_only=True)"
   ]
  },
  {
   "cell_type": "markdown",
   "id": "84b19455",
   "metadata": {},
   "source": [
    "## Early Stopping"
   ]
  },
  {
   "cell_type": "code",
   "execution_count": null,
   "id": "bc8e425e",
   "metadata": {},
   "outputs": [],
   "source": [
    "early_stopping_cb = tf.keras.callbacks.EarlyStopping(patience=10, restore_best_weights=True)"
   ]
  },
  {
   "cell_type": "code",
   "execution_count": null,
   "id": "7f746bbb-946f-46dd-9c37-2b28fd235cf7",
   "metadata": {},
   "outputs": [],
   "source": [
    "history = model.fit(X_train, y_train, epochs=30, validation_data=(X_valid, y_valid), callbacks=[checkpoint_cb, early_stopping_cb])"
   ]
  },
  {
   "cell_type": "code",
   "execution_count": null,
   "id": "88996239-fdfa-4007-af1d-9f87a0699273",
   "metadata": {},
   "outputs": [],
   "source": [
    "model_name = \"my_mnist_model\"\n",
    "model_version = \"0001\"\n",
    "model_path = Path(model_name) / model_version"
   ]
  },
  {
   "cell_type": "code",
   "execution_count": null,
   "id": "d95874f5-c332-4802-a124-d896f64e1670",
   "metadata": {},
   "outputs": [],
   "source": [
    "model.save(model_path, save_format=\"tf\")"
   ]
  },
  {
   "cell_type": "code",
   "execution_count": null,
   "id": "e65d3a1a-0828-41d4-ac28-58dbfe13f055",
   "metadata": {},
   "outputs": [],
   "source": [
    "!saved_model_cli show --dir my_mnist_model/0001"
   ]
  },
  {
   "cell_type": "code",
   "execution_count": null,
   "id": "5dbec96d-efa2-4125-9780-3a77fdfe3f04",
   "metadata": {},
   "outputs": [],
   "source": [
    "!saved_model_cli show --dir my_mnist_model/0001 --tag_set serve"
   ]
  },
  {
   "cell_type": "markdown",
   "id": "09bd3c33-be4a-4919-97a5-9135412a47dc",
   "metadata": {},
   "source": [
    "__saved_model_init_op --> an initialization function\n",
    "\n",
    "serving_default --> defult serving function"
   ]
  },
  {
   "cell_type": "code",
   "execution_count": null,
   "id": "83c1fa49-9366-486f-9125-dd33b04910e9",
   "metadata": {},
   "outputs": [],
   "source": [
    "!saved_model_cli show --dir my_mnist_model/0001 --tag_set serve --signature_def serving_default"
   ]
  },
  {
   "cell_type": "markdown",
   "id": "bfe1d964-8e28-4ffd-b833-b6a529c27dde",
   "metadata": {},
   "source": [
    "# TensorFlow Serving"
   ]
  },
  {
   "cell_type": "markdown",
   "id": "c1c8f6ff-e2fc-46c8-818d-e99ced6c660f",
   "metadata": {},
   "source": [
    "Run install-tf-server.sh "
   ]
  },
  {
   "cell_type": "code",
   "execution_count": null,
   "id": "55535ab1-7f1b-4f1b-a7a9-4131406336dc",
   "metadata": {},
   "outputs": [],
   "source": [
    "%pip install -q -U tensorflow-serving-api"
   ]
  },
  {
   "cell_type": "code",
   "execution_count": null,
   "id": "964a1732-5367-411d-b73f-80c097a148a8",
   "metadata": {},
   "outputs": [],
   "source": [
    "os.environ[\"MODEL_DIR\"] = str(model_path.parent.absolute())"
   ]
  },
  {
   "cell_type": "code",
   "execution_count": null,
   "id": "1c18346d-34ad-4934-a7ff-a946c3af76d2",
   "metadata": {},
   "outputs": [],
   "source": [
    "%%bash --bg\n",
    "tensorflow_model_server --port=8500 --rest_api_port=8501 --model_name=my_mnist_model --model_base_path=\"${MODEL_DIR}\" > my_server.log 2>&1"
   ]
  },
  {
   "cell_type": "markdown",
   "id": "84f6598d-3237-45d4-89a6-fe1c8841ef4a",
   "metadata": {},
   "source": [
    "It is now waiting for gRPC and REST requests, respectively, on ports 8500 and 8501"
   ]
  },
  {
   "cell_type": "markdown",
   "id": "2ab4d793-7c0b-4464-98fd-518c53fccc82",
   "metadata": {},
   "source": [
    "# Querying TF Serving through the REST API"
   ]
  },
  {
   "cell_type": "code",
   "execution_count": null,
   "id": "2305a044-98fd-4765-8542-e76a40255a5f",
   "metadata": {},
   "outputs": [],
   "source": [
    "X_new = X_test[:6] # pretend we have 3 new digit images to classify\n",
    "request_json = json.dumps({\n",
    "    \"signature_name\": \"serving_default\",\n",
    "    \"instances\": X_new.tolist(),\n",
    "})"
   ]
  },
  {
   "cell_type": "code",
   "execution_count": null,
   "id": "9dd221d6-f3e4-4bce-999c-e4b143c6b71f",
   "metadata": {},
   "outputs": [],
   "source": [
    "server_url = \"http://localhost:8501/v1/models/my_mnist_model:predict\"\n",
    "response = requests.post(server_url, data=request_json)\n",
    "response.raise_for_status() # raise an exception in case of error\n",
    "response = response.json()"
   ]
  },
  {
   "cell_type": "code",
   "execution_count": null,
   "id": "76249ab1-c38e-401b-84ce-93219f286fe2",
   "metadata": {},
   "outputs": [],
   "source": [
    "y_proba = np.array(response[\"predictions\"])\n",
    "y_proba.round(2)"
   ]
  },
  {
   "cell_type": "code",
   "execution_count": null,
   "id": "d0b4cdcd-0711-4af2-b4bc-1f3f4dbe9cfe",
   "metadata": {},
   "outputs": [],
   "source": [
    "y_test[:6]"
   ]
  },
  {
   "cell_type": "code",
   "execution_count": null,
   "id": "dcd6a870-a559-4d7c-a50e-3bb85c0efd05",
   "metadata": {},
   "outputs": [],
   "source": []
  }
 ],
 "metadata": {
  "kernelspec": {
   "display_name": "Python 3 (ipykernel)",
   "language": "python",
   "name": "python3"
  },
  "language_info": {
   "codemirror_mode": {
    "name": "ipython",
    "version": 3
   },
   "file_extension": ".py",
   "mimetype": "text/x-python",
   "name": "python",
   "nbconvert_exporter": "python",
   "pygments_lexer": "ipython3",
   "version": "3.11.2"
  }
 },
 "nbformat": 4,
 "nbformat_minor": 5
}
